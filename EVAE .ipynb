{
  "nbformat": 4,
  "nbformat_minor": 0,
  "metadata": {
    "colab": {
      "name": "EVAE.ipynb",
      "provenance": [],
      "collapsed_sections": [],
      "toc_visible": true
    },
    "kernelspec": {
      "name": "python3",
      "display_name": "Python 3"
    },
    "accelerator": "GPU"
  },
  "cells": [
    {
      "cell_type": "code",
      "metadata": {
        "id": "hAqhTwh0_rnT",
        "colab_type": "code",
        "outputId": "79d011c5-e8e3-433f-ca68-d7c5cb781998",
        "colab": {
          "base_uri": "https://localhost:8080/",
          "height": 173
        }
      },
      "source": [
        "from __future__ import absolute_import\n",
        "from __future__ import division\n",
        "from __future__ import print_function\n",
        "\n",
        "\n",
        "from keras.layers import Dense, Input\n",
        "from keras.layers import Conv3D, Flatten, Lambda\n",
        "from keras.layers import Reshape, Conv3DTranspose\n",
        "from keras.models import Model\n",
        "from keras.datasets import mnist\n",
        "from keras.losses import mse, binary_crossentropy\n",
        "from keras.utils import plot_model\n",
        "from keras import backend as K\n",
        "\n",
        "import numpy as np\n",
        "import matplotlib.pyplot as plt\n",
        "import argparse\n",
        "import os\n",
        "\n",
        "import nibabel as nib\n",
        "import numpy as np\n",
        "import keras\n",
        "from keras import losses\n",
        "\n",
        "K.clear_session()\n"
      ],
      "execution_count": 0,
      "outputs": [
        {
          "output_type": "stream",
          "text": [
            "Using TensorFlow backend.\n",
            "WARNING: Logging before flag parsing goes to stderr.\n",
            "W0621 14:20:32.224380 140007932770176 deprecation_wrapper.py:119] From /usr/local/lib/python3.6/dist-packages/keras/backend/tensorflow_backend.py:95: The name tf.reset_default_graph is deprecated. Please use tf.compat.v1.reset_default_graph instead.\n",
            "\n",
            "W0621 14:20:32.226109 140007932770176 deprecation_wrapper.py:119] From /usr/local/lib/python3.6/dist-packages/keras/backend/tensorflow_backend.py:98: The name tf.placeholder_with_default is deprecated. Please use tf.compat.v1.placeholder_with_default instead.\n",
            "\n",
            "W0621 14:20:32.250028 140007932770176 deprecation_wrapper.py:119] From /usr/local/lib/python3.6/dist-packages/keras/backend/tensorflow_backend.py:102: The name tf.get_default_graph is deprecated. Please use tf.compat.v1.get_default_graph instead.\n",
            "\n"
          ],
          "name": "stderr"
        }
      ]
    },
    {
      "cell_type": "code",
      "metadata": {
        "id": "ho4JvnjCEYIy",
        "colab_type": "code",
        "outputId": "c8471529-4998-4cc7-c1be-f1c48733963b",
        "colab": {
          "base_uri": "https://localhost:8080/",
          "height": 54
        }
      },
      "source": [
        "from google.colab import drive\n",
        "\n",
        "drive.mount('/gdrive')"
      ],
      "execution_count": 0,
      "outputs": [
        {
          "output_type": "stream",
          "text": [
            "Drive already mounted at /gdrive; to attempt to forcibly remount, call drive.mount(\"/gdrive\", force_remount=True).\n"
          ],
          "name": "stdout"
        }
      ]
    },
    {
      "cell_type": "markdown",
      "metadata": {
        "id": "g726DtGRAG1U",
        "colab_type": "text"
      },
      "source": [
        "# Load Data"
      ]
    },
    {
      "cell_type": "code",
      "metadata": {
        "id": "5MBjQAo8_t6j",
        "colab_type": "code",
        "colab": {}
      },
      "source": [
        "\n",
        "# reparameterization trick\n",
        "# instead of sampling from Q(z|X), sample eps = N(0,I)\n",
        "# then z = z_mean + sqrt(var)*eps\n",
        "def sampling(args):\n",
        "    \"\"\"Reparameterization trick by sampling fr an isotropic unit Gaussian.\n",
        "\n",
        "    # Arguments\n",
        "        args (tensor): mean and log of variance of Q(z|X)\n",
        "\n",
        "    # Returns\n",
        "        z (tensor): sampled latent vector\n",
        "    \"\"\"\n",
        "\n",
        "    z_mean, z_log_var = args\n",
        "    batch = K.shape(z_mean)[0]\n",
        "    dim = K.int_shape(z_mean)[1]\n",
        "    # by default, random_normal has mean=0 and std=1.0\n",
        "    epsilon = K.random_normal(shape=(batch, dim))\n",
        "    return z_mean + K.exp(0.5 * z_log_var) * epsilon\n",
        "\n",
        "def normalize_value(a):\n",
        "    min = -2048 #np.min(numpy_data)\n",
        "    max = 3000 #np.max(numpy_data)       \n",
        "    return  ( a - min ) / (max - min)\n",
        "  \n",
        "def fileloader(ends):\n",
        "  array = []\n",
        "  file_dir_train = \"/gdrive/My Drive/skulls_nifti/downsampled\"\n",
        "  for root, dirnames, filenames in os.walk(file_dir_train):\n",
        "      for filename in filenames:\n",
        "\n",
        "          if filename.endswith(ends):\n",
        "              print(filename)\n",
        "              #x_train = np.append(x_train, np.load(os.path.join(root,filename)))\n",
        "              img = nib.load(os.path.join(root,filename)).get_data()\n",
        "              img[img < 700] = -2048\n",
        "              img[img > 3000] = -2048\n",
        "              img = img.astype(np.float32)\n",
        "              img = normalize_value(img)\n",
        "              #data = img.get_fdata()\n",
        "              array.append(img)\n",
        "              continue\n",
        "              \n",
        "  return array\n",
        "\n",
        "class CustomVariationalLayer(keras.layers.Layer):\n",
        "\n",
        "    def vae_loss(self, x, z_decoded):\n",
        "        x = K.flatten(x)#line\n",
        "        z_decoded = K.flatten(z_decoded)\n",
        "        xent_loss = keras.metrics.binary_crossentropy(x, z_decoded)\n",
        "        kl_loss = -0.5 * K.mean(1 + z_log_var - K.square(z_mean) - K.exp(z_log_var), axis=-1)\n",
        "        return K.mean(xent_loss + kl_loss)\n",
        "\n",
        "    def call(self, inputs):\n",
        "        x = inputs[0]\n",
        "        z_decoded = inputs[1]\n",
        "        loss = self.vae_loss(x, z_decoded)\n",
        "        self.add_loss(loss, inputs=inputs)\n",
        "        # We don't use this output.\n",
        "        return x\n"
      ],
      "execution_count": 0,
      "outputs": []
    },
    {
      "cell_type": "code",
      "metadata": {
        "id": "i2Rh4rWuAEcZ",
        "colab_type": "code",
        "outputId": "b5e56d1b-a2e3-4940-c8bc-0a1e346590db",
        "colab": {
          "base_uri": "https://localhost:8080/",
          "height": 391
        }
      },
      "source": [
        "ends_orig = '_15.nii.gz'\n",
        "ends_dmg = 'original.nii.gz'\n",
        "\n",
        "x_train = fileloader(ends_orig)\n",
        "x_test = fileloader(ends_dmg)\n",
        "\n",
        "x_train = np.asarray(x_train)\n",
        "x_test = np.asarray(x_test)\n",
        "print(len(x_train))\n",
        "print(len(x_test))\n",
        "x_train = x_train.reshape(x_train.shape + (1,))\n",
        "x_test = x_test.reshape(x_test.shape + (1,))\n",
        "x_dmg = x_train\n",
        "x_orig = x_test"
      ],
      "execution_count": 0,
      "outputs": [
        {
          "output_type": "stream",
          "text": [
            "annakova_15.nii.gz\n",
            "ambartsumyan_15.nii.gz\n",
            "antonyan_15.nii.gz\n",
            "alekseeva_15.nii.gz\n",
            "agabekova_15.nii.gz\n",
            "aleev_15.nii.gz\n",
            "aksyanova_15.nii.gz\n",
            "aleksandrova_15.nii.gz\n",
            "man1_15.nii.gz\n",
            "baranova_15.nii.gz\n",
            "annakova_original.nii.gz\n",
            "ambartsumyan_original.nii.gz\n",
            "antonyan_original.nii.gz\n",
            "alekseeva_original.nii.gz\n",
            "agabekova_original.nii.gz\n",
            "aleev_original.nii.gz\n",
            "aksyanova_original.nii.gz\n",
            "aleksandrova_original.nii.gz\n",
            "man1_original.nii.gz\n",
            "baranova_original.nii.gz\n",
            "10\n",
            "10\n"
          ],
          "name": "stdout"
        }
      ]
    },
    {
      "cell_type": "code",
      "metadata": {
        "id": "fdHN0GP6AQ8Z",
        "colab_type": "code",
        "colab": {}
      },
      "source": [
        "\n",
        "image_size = 128\n",
        "image_volume = 256\n",
        "input_shape = (image_size, image_size, image_volume, 1)\n",
        "batch_size = 1\n",
        "kernel_size = 4\n",
        "filters = 4\n",
        "latent_dim = 55\n",
        "epochs = 1000"
      ],
      "execution_count": 0,
      "outputs": []
    },
    {
      "cell_type": "markdown",
      "metadata": {
        "id": "A3sCklWYCNAO",
        "colab_type": "text"
      },
      "source": [
        "# Build model"
      ]
    },
    {
      "cell_type": "code",
      "metadata": {
        "id": "7nswgC6_AkzB",
        "colab_type": "code",
        "outputId": "61c6466d-71e6-44ae-c764-7a9b40e98f24",
        "colab": {
          "base_uri": "https://localhost:8080/",
          "height": 156
        }
      },
      "source": [
        "# VAE model = encoder + decoder\n",
        "# build encoder model\n",
        "inputs = Input(shape=input_shape, name='encoder_input')\n",
        "input_y = Input(shape=input_shape, name='encoder_input_labels')\n",
        "x = inputs\n",
        "for i in range(6):\n",
        "    filters *= 2\n",
        "    x = Conv3D(filters=filters,\n",
        "               kernel_size=kernel_size,\n",
        "               activation='relu',\n",
        "               strides=(2,2,2),\n",
        "               padding='same')(x)\n",
        "\n",
        "# shape info needed to build decoder model\n",
        "shape = K.int_shape(x)\n",
        "\n",
        "# generate latent vector Q(z|X)\n",
        "x = Flatten()(x)\n",
        "x = Dense(50, activation='relu')(x)\n",
        "z_mean = Dense(latent_dim, name='z_mean')(x)\n",
        "z_log_var = Dense(latent_dim, name='z_log_var')(x)\n",
        "\n",
        "\n",
        "\n",
        "# use reparameterization trick to push the sampling out as input\n",
        "# note that \"output_shape\" isn't necessary with the TensorFlow backend\n",
        "z = Lambda(sampling, output_shape=(latent_dim,), name='z')([z_mean, z_log_var])\n",
        "\n",
        "# instantiate encoder model\n",
        "encoder = Model(inputs, [z_mean, z_log_var, z], name='encoder')\n",
        "\n",
        "# build decoder model\n",
        "latent_inputs = Input(shape=(latent_dim,), name='z_sampling')\n",
        "x = Dense(shape[1] * shape[2] * shape[3] * shape[4], activation='relu')(latent_inputs)\n",
        "x = Reshape((shape[1], shape[2], shape[3], shape[4]))(x)\n",
        "\n",
        "for i in range(6):\n",
        "    x = Conv3DTranspose(filters=filters,\n",
        "                        kernel_size=kernel_size,\n",
        "                        activation='relu',\n",
        "                        strides=2,\n",
        "                        padding='same')(x)\n",
        "    filters //= 2\n",
        "\n",
        "outputs = Conv3DTranspose(filters=1,\n",
        "                          kernel_size=kernel_size,\n",
        "                          activation='sigmoid',\n",
        "                          padding='same',\n",
        "                          name='decoder_output')(x)\n",
        "\n",
        "# instantiate decoder model\n",
        "decoder = Model(latent_inputs, outputs, name='decoder')\n",
        "outputs =decoder(z) \n",
        "y = CustomVariationalLayer()([input_y,outputs])\n",
        "\n"
      ],
      "execution_count": 0,
      "outputs": [
        {
          "output_type": "stream",
          "text": [
            "W0621 14:20:35.516674 140007932770176 deprecation_wrapper.py:119] From /usr/local/lib/python3.6/dist-packages/keras/backend/tensorflow_backend.py:517: The name tf.placeholder is deprecated. Please use tf.compat.v1.placeholder instead.\n",
            "\n",
            "W0621 14:20:35.526933 140007932770176 deprecation_wrapper.py:119] From /usr/local/lib/python3.6/dist-packages/keras/backend/tensorflow_backend.py:4138: The name tf.random_uniform is deprecated. Please use tf.random.uniform instead.\n",
            "\n",
            "W0621 14:20:36.295420 140007932770176 deprecation.py:323] From /usr/local/lib/python3.6/dist-packages/tensorflow/python/ops/nn_impl.py:180: add_dispatch_support.<locals>.wrapper (from tensorflow.python.ops.array_ops) is deprecated and will be removed in a future version.\n",
            "Instructions for updating:\n",
            "Use tf.where in 2.0, which has the same broadcast rule as np.where\n"
          ],
          "name": "stderr"
        }
      ]
    },
    {
      "cell_type": "code",
      "metadata": {
        "id": "qwH0Ty7hA64Z",
        "colab_type": "code",
        "colab": {}
      },
      "source": [
        "# instantiate VAE model\n",
        "vae = Model((inputs,input_y), y, name='vae')\n",
        "\n",
        "sgd = keras.optimizers.SGD(lr=0.002, decay=1e-6, momentum=0.9, nesterov=True)\n",
        "vae.compile(optimizer = sgd, loss = None)\n",
        "\n",
        "tbCallBack = keras.callbacks.TensorBoard(log_dir='gdrive//My Drive//Graph', histogram_freq=0, write_graph=True, write_images=True)\n",
        "\n",
        "#if args.weights:\n",
        "#   vae.load_weights(args.weights)\n",
        "#else:\n",
        "    # train the autoencoder\n",
        "print(np.array(x_orig).shape)\n",
        "vae.fit(x = [x_orig,x_orig], y = None,\n",
        "        epochs=epochs,\n",
        "        batch_size=batch_size,\n",
        "        validation_data=([x_orig,x_orig], None), callbacks=[tbCallBack])\n",
        "\n",
        "\n",
        "#plot_results(models, data, batch_size=batch_size, model_name=\"vae_cnn\")"
      ],
      "execution_count": 0,
      "outputs": []
    },
    {
      "cell_type": "markdown",
      "metadata": {
        "id": "xd1W34n3BiMh",
        "colab_type": "text"
      },
      "source": [
        "# Сохранение модели"
      ]
    },
    {
      "cell_type": "code",
      "metadata": {
        "id": "uDzuc2PcBtDz",
        "colab_type": "code",
        "outputId": "9c2c00fc-7c26-485b-e328-566a538b7987",
        "colab": {
          "base_uri": "https://localhost:8080/",
          "height": 34
        }
      },
      "source": [
        "vae.save_weights(\"/gdrive/My Drive/model.h5\")\n",
        "print(\"Saved model to disk\")"
      ],
      "execution_count": 0,
      "outputs": [
        {
          "output_type": "stream",
          "text": [
            "Saved model to disk\n"
          ],
          "name": "stdout"
        }
      ]
    },
    {
      "cell_type": "code",
      "metadata": {
        "id": "6KfozVEI8aLL",
        "colab_type": "code",
        "colab": {}
      },
      "source": [
        "plot_model(encoder, to_file='encoder.png', show_shapes=True)\n",
        "plot_model(decoder, to_file='decoder.png',show_shapes=True)\n",
        "plot_model(vae, to_file='vae.png',show_shapes=True)"
      ],
      "execution_count": 0,
      "outputs": []
    },
    {
      "cell_type": "code",
      "metadata": {
        "id": "U8upBKS3IBLL",
        "colab_type": "code",
        "outputId": "e582381c-83a2-42cd-c9f0-dd62da3fea23",
        "colab": {
          "base_uri": "https://localhost:8080/",
          "height": 1020
        }
      },
      "source": [
        "encoder.summary()\n",
        "decoder.summary()"
      ],
      "execution_count": 0,
      "outputs": [
        {
          "output_type": "stream",
          "text": [
            "__________________________________________________________________________________________________\n",
            "Layer (type)                    Output Shape         Param #     Connected to                     \n",
            "==================================================================================================\n",
            "encoder_input (InputLayer)      (None, 128, 128, 256 0                                            \n",
            "__________________________________________________________________________________________________\n",
            "conv3d_1 (Conv3D)               (None, 64, 64, 128,  520         encoder_input[0][0]              \n",
            "__________________________________________________________________________________________________\n",
            "conv3d_2 (Conv3D)               (None, 32, 32, 64, 1 8208        conv3d_1[0][0]                   \n",
            "__________________________________________________________________________________________________\n",
            "conv3d_3 (Conv3D)               (None, 16, 16, 32, 3 32800       conv3d_2[0][0]                   \n",
            "__________________________________________________________________________________________________\n",
            "conv3d_4 (Conv3D)               (None, 8, 8, 16, 64) 131136      conv3d_3[0][0]                   \n",
            "__________________________________________________________________________________________________\n",
            "conv3d_5 (Conv3D)               (None, 4, 4, 8, 128) 524416      conv3d_4[0][0]                   \n",
            "__________________________________________________________________________________________________\n",
            "conv3d_6 (Conv3D)               (None, 2, 2, 4, 256) 2097408     conv3d_5[0][0]                   \n",
            "__________________________________________________________________________________________________\n",
            "flatten_1 (Flatten)             (None, 4096)         0           conv3d_6[0][0]                   \n",
            "__________________________________________________________________________________________________\n",
            "dense_1 (Dense)                 (None, 50)           204850      flatten_1[0][0]                  \n",
            "__________________________________________________________________________________________________\n",
            "z_mean (Dense)                  (None, 55)           2805        dense_1[0][0]                    \n",
            "__________________________________________________________________________________________________\n",
            "z_log_var (Dense)               (None, 55)           2805        dense_1[0][0]                    \n",
            "__________________________________________________________________________________________________\n",
            "z (Lambda)                      (None, 55)           0           z_mean[0][0]                     \n",
            "                                                                 z_log_var[0][0]                  \n",
            "==================================================================================================\n",
            "Total params: 3,004,948\n",
            "Trainable params: 3,004,948\n",
            "Non-trainable params: 0\n",
            "__________________________________________________________________________________________________\n",
            "_________________________________________________________________\n",
            "Layer (type)                 Output Shape              Param #   \n",
            "=================================================================\n",
            "z_sampling (InputLayer)      (None, 55)                0         \n",
            "_________________________________________________________________\n",
            "dense_2 (Dense)              (None, 4096)              229376    \n",
            "_________________________________________________________________\n",
            "reshape_1 (Reshape)          (None, 2, 2, 4, 256)      0         \n",
            "_________________________________________________________________\n",
            "conv3d_transpose_1 (Conv3DTr (None, 4, 4, 8, 256)      4194560   \n",
            "_________________________________________________________________\n",
            "conv3d_transpose_2 (Conv3DTr (None, 8, 8, 16, 128)     2097280   \n",
            "_________________________________________________________________\n",
            "conv3d_transpose_3 (Conv3DTr (None, 16, 16, 32, 64)    524352    \n",
            "_________________________________________________________________\n",
            "conv3d_transpose_4 (Conv3DTr (None, 32, 32, 64, 32)    131104    \n",
            "_________________________________________________________________\n",
            "conv3d_transpose_5 (Conv3DTr (None, 64, 64, 128, 16)   32784     \n",
            "_________________________________________________________________\n",
            "conv3d_transpose_6 (Conv3DTr (None, 128, 128, 256, 8)  8200      \n",
            "_________________________________________________________________\n",
            "decoder_output (Conv3DTransp (None, 128, 128, 256, 1)  513       \n",
            "=================================================================\n",
            "Total params: 7,218,169\n",
            "Trainable params: 7,218,169\n",
            "Non-trainable params: 0\n",
            "_________________________________________________________________\n"
          ],
          "name": "stdout"
        }
      ]
    },
    {
      "cell_type": "code",
      "metadata": {
        "id": "Nm2blZmtIM7U",
        "colab_type": "code",
        "outputId": "026cec00-f3da-46e2-f730-d087728b0870",
        "colab": {
          "base_uri": "https://localhost:8080/",
          "height": 680
        }
      },
      "source": [
        "vae.summary()"
      ],
      "execution_count": 0,
      "outputs": [
        {
          "output_type": "stream",
          "text": [
            "__________________________________________________________________________________________________\n",
            "Layer (type)                    Output Shape         Param #     Connected to                     \n",
            "==================================================================================================\n",
            "encoder_input (InputLayer)      (None, 128, 128, 256 0                                            \n",
            "__________________________________________________________________________________________________\n",
            "conv3d_1 (Conv3D)               (None, 64, 64, 128,  520         encoder_input[0][0]              \n",
            "__________________________________________________________________________________________________\n",
            "conv3d_2 (Conv3D)               (None, 32, 32, 64, 1 8208        conv3d_1[0][0]                   \n",
            "__________________________________________________________________________________________________\n",
            "conv3d_3 (Conv3D)               (None, 16, 16, 32, 3 32800       conv3d_2[0][0]                   \n",
            "__________________________________________________________________________________________________\n",
            "conv3d_4 (Conv3D)               (None, 8, 8, 16, 64) 131136      conv3d_3[0][0]                   \n",
            "__________________________________________________________________________________________________\n",
            "conv3d_5 (Conv3D)               (None, 4, 4, 8, 128) 524416      conv3d_4[0][0]                   \n",
            "__________________________________________________________________________________________________\n",
            "conv3d_6 (Conv3D)               (None, 2, 2, 4, 256) 2097408     conv3d_5[0][0]                   \n",
            "__________________________________________________________________________________________________\n",
            "flatten_1 (Flatten)             (None, 4096)         0           conv3d_6[0][0]                   \n",
            "__________________________________________________________________________________________________\n",
            "dense_1 (Dense)                 (None, 50)           204850      flatten_1[0][0]                  \n",
            "__________________________________________________________________________________________________\n",
            "z_mean (Dense)                  (None, 55)           2805        dense_1[0][0]                    \n",
            "__________________________________________________________________________________________________\n",
            "z_log_var (Dense)               (None, 55)           2805        dense_1[0][0]                    \n",
            "__________________________________________________________________________________________________\n",
            "z (Lambda)                      (None, 55)           0           z_mean[0][0]                     \n",
            "                                                                 z_log_var[0][0]                  \n",
            "__________________________________________________________________________________________________\n",
            "encoder_input_labels (InputLaye (None, 128, 128, 256 0                                            \n",
            "__________________________________________________________________________________________________\n",
            "decoder (Model)                 (None, 128, 128, 256 7218169     z[0][0]                          \n",
            "__________________________________________________________________________________________________\n",
            "custom_variational_layer_1 (Cus [(None, 128, 128, 25 0           encoder_input_labels[0][0]       \n",
            "                                                                 decoder[1][0]                    \n",
            "==================================================================================================\n",
            "Total params: 10,223,117\n",
            "Trainable params: 10,223,117\n",
            "Non-trainable params: 0\n",
            "__________________________________________________________________________________________________\n"
          ],
          "name": "stdout"
        }
      ]
    },
    {
      "cell_type": "markdown",
      "metadata": {
        "id": "4enNqHAXBnDL",
        "colab_type": "text"
      },
      "source": [
        "# Load and retrain"
      ]
    },
    {
      "cell_type": "code",
      "metadata": {
        "id": "Wnfd-vt_Bd0p",
        "colab_type": "code",
        "colab": {}
      },
      "source": [
        "K.clear_session()"
      ],
      "execution_count": 0,
      "outputs": []
    },
    {
      "cell_type": "code",
      "metadata": {
        "id": "WZkIoP03B2Kx",
        "colab_type": "code",
        "colab": {}
      },
      "source": [
        "# instantiate VAE model\n",
        "# VAE model = encoder + decoder\n",
        "# build encoder model\n",
        "inputs = Input(shape=input_shape, name='encoder_input')\n",
        "input_y = Input(shape=input_shape, name='encoder_input_label')\n",
        "x = inputs\n",
        "for i in range(6):\n",
        "    filters *= 2\n",
        "    x = Conv3D(filters=filters,\n",
        "               kernel_size=kernel_size,\n",
        "               activation='relu',\n",
        "               strides=(2,2,2),\n",
        "               padding='same')(x)\n",
        "\n",
        "# shape info needed to build decoder model\n",
        "shape = K.int_shape(x)\n",
        "\n",
        "# generate latent vector Q(z|X)\n",
        "x = Flatten()(x)\n",
        "x = Dense(50, activation='relu')(x)\n",
        "z_mean = Dense(latent_dim, name='z_mean')(x)###########\n",
        "z_log_var = Dense(latent_dim, name='z_log_var')(x)#####\n",
        "\n",
        "\n",
        "z = Lambda(sampling, output_shape=(latent_dim,), name='z')([z_mean, z_log_var])\n",
        "\n",
        "# instantiate encoder model\n",
        "encoder = Model(inputs, [z_mean, z_log_var, z], name='encoder')\n",
        "\n",
        "# build decoder model\n",
        "latent_inputs = Input(shape=(latent_dim,), name='z_sampling')\n",
        "x = Dense(shape[1] * shape[2] * shape[3] * shape[4], activation='relu')(latent_inputs)\n",
        "x = Reshape((shape[1], shape[2], shape[3], shape[4]))(x)\n",
        "\n",
        "for i in range(6):\n",
        "    x = Conv3DTranspose(filters=filters,\n",
        "                        kernel_size=kernel_size,\n",
        "                        activation='relu',\n",
        "                        strides=2,\n",
        "                        padding='same')(x)\n",
        "    filters //= 2\n",
        "\n",
        "outputs = Conv3DTranspose(filters=1,\n",
        "                          kernel_size=kernel_size,\n",
        "                          activation='sigmoid',\n",
        "                          padding='same',\n",
        "                          name='decoder_output')(x)\n",
        "\n",
        "# instantiate decoder model\n",
        "decoder = Model(latent_inputs, outputs, name='decoder')\n",
        "outputs =decoder(z) \n",
        "y = CustomVariationalLayer()([input_y,outputs])\n",
        "vae = Model((inputs,input_y), y, name='vae')\n",
        "vae.load_weights(\"/gdrive/My Drive/model.h5\")"
      ],
      "execution_count": 0,
      "outputs": []
    },
    {
      "cell_type": "code",
      "metadata": {
        "id": "2viwS2z7KEER",
        "colab_type": "code",
        "outputId": "576cb7fe-3d24-4058-d6b6-154cbdec6685",
        "colab": {
          "base_uri": "https://localhost:8080/",
          "height": 680
        }
      },
      "source": [
        "vae.summary()"
      ],
      "execution_count": 0,
      "outputs": [
        {
          "output_type": "stream",
          "text": [
            "__________________________________________________________________________________________________\n",
            "Layer (type)                    Output Shape         Param #     Connected to                     \n",
            "==================================================================================================\n",
            "encoder_input (InputLayer)      (None, 128, 128, 256 0                                            \n",
            "__________________________________________________________________________________________________\n",
            "conv3d_1 (Conv3D)               (None, 64, 64, 128,  520         encoder_input[0][0]              \n",
            "__________________________________________________________________________________________________\n",
            "conv3d_2 (Conv3D)               (None, 32, 32, 64, 1 8208        conv3d_1[0][0]                   \n",
            "__________________________________________________________________________________________________\n",
            "conv3d_3 (Conv3D)               (None, 16, 16, 32, 3 32800       conv3d_2[0][0]                   \n",
            "__________________________________________________________________________________________________\n",
            "conv3d_4 (Conv3D)               (None, 8, 8, 16, 64) 131136      conv3d_3[0][0]                   \n",
            "__________________________________________________________________________________________________\n",
            "conv3d_5 (Conv3D)               (None, 4, 4, 8, 128) 524416      conv3d_4[0][0]                   \n",
            "__________________________________________________________________________________________________\n",
            "conv3d_6 (Conv3D)               (None, 2, 2, 4, 256) 2097408     conv3d_5[0][0]                   \n",
            "__________________________________________________________________________________________________\n",
            "flatten_1 (Flatten)             (None, 4096)         0           conv3d_6[0][0]                   \n",
            "__________________________________________________________________________________________________\n",
            "dense_1 (Dense)                 (None, 50)           204850      flatten_1[0][0]                  \n",
            "__________________________________________________________________________________________________\n",
            "z_mean (Dense)                  (None, 55)           2805        dense_1[0][0]                    \n",
            "__________________________________________________________________________________________________\n",
            "z_log_var (Dense)               (None, 55)           2805        dense_1[0][0]                    \n",
            "__________________________________________________________________________________________________\n",
            "z (Lambda)                      (None, 55)           0           z_mean[0][0]                     \n",
            "                                                                 z_log_var[0][0]                  \n",
            "__________________________________________________________________________________________________\n",
            "encoder_input_label (InputLayer (None, 128, 128, 256 0                                            \n",
            "__________________________________________________________________________________________________\n",
            "decoder (Model)                 (None, 128, 128, 256 7218169     z[0][0]                          \n",
            "__________________________________________________________________________________________________\n",
            "custom_variational_layer_1 (Cus [(None, 128, 128, 25 0           encoder_input_label[0][0]        \n",
            "                                                                 decoder[1][0]                    \n",
            "==================================================================================================\n",
            "Total params: 10,223,117\n",
            "Trainable params: 10,223,117\n",
            "Non-trainable params: 0\n",
            "__________________________________________________________________________________________________\n"
          ],
          "name": "stdout"
        }
      ]
    },
    {
      "cell_type": "code",
      "metadata": {
        "id": "o-LL2Z9FCmgP",
        "colab_type": "code",
        "colab": {}
      },
      "source": [
        "idx = 0\n",
        "session = K.get_session()\n",
        "vae.load_weights(\"/gdrive/My Drive/model.h5\")\n",
        "for ix,layer in enumerate(vae.layers):\n",
        "  if ix == 0:\n",
        "    continue\n",
        "  if idx>5:\n",
        "    break\n",
        "  if hasattr(layer, 'kernel_initializer'):\n",
        "    #before = layer.get_weights()[0]\n",
        "    layer.kernel.initializer.run(session=session)\n",
        "    #print(before == layer.get_weights()[0])\n",
        "   # evae.layers[idx].set_weights(vae.layers[idx].get_weights())"
      ],
      "execution_count": 0,
      "outputs": []
    },
    {
      "cell_type": "code",
      "metadata": {
        "id": "cJfD30OiFTv5",
        "colab_type": "code",
        "colab": {}
      },
      "source": [
        "epochs = 1000"
      ],
      "execution_count": 0,
      "outputs": []
    },
    {
      "cell_type": "code",
      "metadata": {
        "id": "P9JChkotCF_Z",
        "colab_type": "code",
        "colab": {}
      },
      "source": [
        "\n",
        "#sgd = keras.optimizers.SGD(lr=0.001, decay=1e-6, momentum=0.9, nesterov=True)\n",
        "sgd = keras.optimizers.Adam(lr=0.001)\n",
        "vae.compile(optimizer = sgd, loss = None)\n",
        "\n",
        "tbCallBack = keras.callbacks.TensorBoard(log_dir='//gdrive//My Drive//Graph3', histogram_freq=0, write_graph=True, write_images=True)\n",
        "mc = keras.callbacks.ModelCheckpoint('//gdrive//My Drive//Weight3//weights{epoch:08d}.h5', save_weights_only=True, period=100)\n",
        "\n",
        "#if args.weights:\n",
        "#   vae.load_weights(args.weights)\n",
        "#else:\n",
        "    # train the autoencoder\n",
        "print(np.array(x_orig).shape)\n",
        "vae.fit(x = [x_dmg,x_orig], y = None,\n",
        "        epochs=epochs,\n",
        "        batch_size=batch_size,\n",
        "        validation_data=([x_dmg, x_orig],None), callbacks=[tbCallBack,mc])"
      ],
      "execution_count": 0,
      "outputs": []
    },
    {
      "cell_type": "code",
      "metadata": {
        "id": "A8ZHhuC565M_",
        "colab_type": "code",
        "outputId": "9bb09342-7728-4015-8dc0-02f53fd895a2",
        "colab": {
          "base_uri": "https://localhost:8080/",
          "height": 34
        }
      },
      "source": [
        "vae.save_weights(\"/gdrive/My Drive/model2.h5\")\n",
        "print(\"Saved model to disk\")"
      ],
      "execution_count": 0,
      "outputs": [
        {
          "output_type": "stream",
          "text": [
            "Saved model to disk\n"
          ],
          "name": "stdout"
        }
      ]
    },
    {
      "cell_type": "code",
      "metadata": {
        "id": "_oqikDhIyS26",
        "colab_type": "code",
        "colab": {}
      },
      "source": [
        "plot_model(vae, to_file='vae1.png',show_shapes=True)"
      ],
      "execution_count": 0,
      "outputs": []
    },
    {
      "cell_type": "code",
      "metadata": {
        "id": "R-K3MCPnCe0Y",
        "colab_type": "code",
        "colab": {}
      },
      "source": [
        "x_predicted = vae.predict([x_dmg,x_dmg], batch_size=None)\n",
        "data_path_ds = \"//gdrive//My Drive//skulls_nifti//downsampled//annakova//annakova_original.nii.gz\"\n",
        "struct = nib.load(data_path_ds)\n",
        "array = struct.get_data()\n",
        "affine_arr = struct.affine\n",
        "\n",
        "\n",
        "lastSkull = x_predicted\n",
        "lastSkull = np.squeeze(lastSkull[0])"
      ],
      "execution_count": 0,
      "outputs": []
    },
    {
      "cell_type": "code",
      "metadata": {
        "id": "nLSHvqqoK_QB",
        "colab_type": "code",
        "colab": {}
      },
      "source": [
        "lastSkull *= 3000 + 2048\n",
        "lastSkull += -2048\n",
        "#print(lastSkull)\n",
        "downsampled = nib.Nifti1Image(lastSkull,affine_arr)"
      ],
      "execution_count": 0,
      "outputs": []
    },
    {
      "cell_type": "code",
      "metadata": {
        "id": "B7H4lLRGLC6_",
        "colab_type": "code",
        "colab": {}
      },
      "source": [
        "nifti_img = nib.save(downsampled, '//gdrive//My Drive//14_new_reconstructed.nii.gz')"
      ],
      "execution_count": 0,
      "outputs": []
    },
    {
      "cell_type": "markdown",
      "metadata": {
        "id": "HKV5tIV9X_GS",
        "colab_type": "text"
      },
      "source": [
        ""
      ]
    }
  ]
}